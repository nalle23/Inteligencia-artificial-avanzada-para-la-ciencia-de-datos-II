{
 "cells": [
  {
   "cell_type": "markdown",
   "metadata": {},
   "source": [
    "## Activity 1 - NBA\n",
    "\n",
    "#### You are a data scientist. You work for the NBA and you have the impossible task of answering who is the GOAT of the NBA between Michael Jordan and Lebron James. Use data science to answer this question.\n",
    "\n",
    "IMPORTANT: There are parts in the code marked as \"# TASK: \", you will have to add code after those parts.\n"
   ]
  },
  {
   "cell_type": "markdown",
   "metadata": {},
   "source": [
    "Task 1. Load each player data to a Pandas Dataframe (provided)"
   ]
  },
  {
   "cell_type": "code",
   "execution_count": 62,
   "metadata": {},
   "outputs": [],
   "source": [
    "# Here is a Dictionary with the NBA historical results of Lebron James from 2003 to 2022\n",
    "lebron_data = {\n",
    "    'Season': ['2003-04', '2004-05', '2005-06', '2006-07', '2007-08', '2008-09', '2009-10', '2010-11', '2011-12', '2012-13', '2013-14', '2014-15', '2015-16', '2016-17', '2017-18', '2018-19', '2019-20', '2020-21', '2021-22'],\n",
    "    'Team': ['CLE', 'CLE', 'CLE', 'CLE', 'CLE', 'CLE', 'CLE', 'MIA', 'MIA', 'MIA', 'MIA', 'CLE', 'CLE', 'CLE', 'CLE', 'LAL', 'LAL', 'LAL', 'LAL'],\n",
    "    'Games_Played': [79, 80, 79, 78, 75, 81, 76, 79, 62, 76, 77, 69, 76, 74, 82, 55, 67, 45, 56],\n",
    "    'Points_Per_Game': [20.9, 27.2, 31.4, 27.3, 30.0, 28.4, 29.7, 26.7, 27.1, 26.8, 27.1, 25.3, 25.3, 26.4, 27.5, 27.4, 25.3, 25.0, 30.3]\n",
    "}\n",
    "\n",
    "# TASK: Create a Pandas DataFrame using the lebron_data dictionary\n",
    "# Remmember to import the Pandas library\n",
    "# -YOUR CODE HERE-\n"
   ]
  },
  {
   "cell_type": "code",
   "execution_count": 63,
   "metadata": {},
   "outputs": [],
   "source": [
    "jordan_data = {\n",
    "    'Season': ['1984-85', '1985-86', '1986-87', '1987-88', '1988-89', '1989-90', '1990-91', '1991-92', '1992-93', '1994-95', '1995-96', '1996-97', '1997-98', '1998-99', '1999-00', '2000-01', '2001-02', '2002-03'],\n",
    "    'Team': ['CHI', 'CHI', 'CHI', 'CHI', 'CHI', 'CHI', 'CHI', 'CHI', 'CHI', 'CHI', 'CHI', 'CHI', 'CHI', 'NA', 'NA', 'NA', 'WAS', 'WAS'],\n",
    "    'Games_Played': [82, 18, 82, 82, 81, 82, 82, 80, 78, 17, 82, 82, 82, 0, 0, 0, 60, 82],\n",
    "    'Points_Per_Game': [28.2, 22.7, 37.1, 35.0, 32.5, 33.6, 31.5, 30.1, 32.6, 26.9, 30.4, 29.6, 28.7, 0, 0, 0,22.9, 20.0]\n",
    "}\n",
    "\n",
    "# TASK: Create a Pandas DataFrame using the lebron_data dictionary\n",
    "# Remmember to import the Pandas library\n",
    "# -YOUR CODE HERE-\n"
   ]
  },
  {
   "cell_type": "markdown",
   "metadata": {},
   "source": [
    "Task 2. First let's see the points per game (ppg) for each player did in their first 15 seasons.\n",
    "\n",
    "1) Create a Numpy Array with Lebron's first 15 season's points per game named: lebron_ppg. (IMPORTANT: Lebron has 19 seasons so far, you need to take only first 15 seasons)\n",
    "\n",
    "2) Create a Numpy Array with Jordan's first 15 season's points per game named: jordan_ppg. (IMPORTANT: Jordan did not played for 3 seasons, you need ignore those seasons)\n",
    "\n",
    "3) Use Matplotlib to graph the points per game per season of both players in a single graph:\n",
    "\n",
    "    a) In order to graph this we need another Numpy Array from 1 to 12, named: seasons\n",
    "\n",
    "    b) Add required library for Matplotlib --> import matplotlib.pyplot as plt\n",
    "\n",
    "    c) Generate a figure of size 10, 6 --> plt.figure(figsize=(10,6))\n",
    "\n",
    "    d) Add first plot (plt.plot), and add as parameters: seasons array, lebron ppg array, add label and a marker.\n",
    "\n",
    "    e) Add a second plot with Jordans points per game\n",
    "    \n",
    "    f) Add labels for x axis, y axis and title\n",
    "    \n",
    "    \n"
   ]
  },
  {
   "cell_type": "code",
   "execution_count": 65,
   "metadata": {
    "vscode": {
     "languageId": "ruby"
    }
   },
   "outputs": [],
   "source": [
    "# TASK: Add the required libraries (Numpy and Matplotlib) to create a graph with the points per game of both players\n",
    "\n",
    "\n",
    "# TASK: Create a Numpy Array with Lebron's first 15 season's points per game name that array lebron_ppg\n",
    "\n",
    "\n",
    "# TASK: Create a Numpy Array with Jordan's first 15 season's points per game name that array lebron_ppg\n",
    "# IMPORTANT: Michael Jordan did not play from the 1998 season to the 2000 season, so you need to skip those seasons in the array\n",
    "# You can identify those seasons in jordan dataframe with the 'NA' value in the 'Team' column\n",
    "\n",
    "# TASK: Create a Numpy Array with numbers from 1 to 15 to represent the seasons name that array 'seasons'\n",
    "\n",
    "\n",
    "# TASK: Use Matplotlib to graph the points per game per season of both players in a single graph\n",
    "# Title of the graph should be 'Points Per Game in First 15 Seasons'\n",
    "# X Label should be the 'Season'\n",
    "# Y Label should be 'Points Per Game'\n",
    "\n"
   ]
  },
  {
   "cell_type": "markdown",
   "metadata": {},
   "source": [
    "Task 3. If we only look at ppg we might have a clear winner, let's add information about assists:\n",
    "\n",
    "    i) Bellow you will see how we are adding the assists per game (apg) to the original Dictionary\n",
    "    \n",
    "    ii) Create a pandas dataframe with the updated python dictionary\n",
    "\n",
    "    iii) Show the pandas dataframe of each player, you should see these columns: 'Season', 'Team', 'Games_Played', 'Points_Per_Game', 'Assists_Per_Game'. (you can use print)"
   ]
  },
  {
   "cell_type": "code",
   "execution_count": 66,
   "metadata": {},
   "outputs": [],
   "source": [
    "# Here we are adding a new field to our Python Dictionary:\n",
    "\n",
    "# lebron_data dictionary will now have a new key called 'Assists_Per_Game' with the following values\n",
    "lebron_data['Assists_Per_Game'] = [5.9, 7.2, 6.6, 6.0, 7.2, 7.2, 8.6, 7.0, 6.2, 7.3, 6.3, 7.4, 6.8, 8.7, 9.1, 8.3, 10.2, 7.8, 6.2]\n",
    "\n",
    "# jordan_data dictionary will now have a new key called 'Assists_Per_Game' with the following values\n",
    "jordan_data['Assists_Per_Game'] = [5.9, 2.9, 4.6, 5.9, 8.0, 6.3, 5.5, 6.1, 5.5, 5.3, 4.3, 4.3, 3.5, 0, 0, 0, 5.2, 3.8]\n",
    "\n",
    "# TASK: Create a Pandas DataFrame using the updated lebron_data and jordan_data dictionaries\n",
    "# Call them lebron_df and jordan_df respectively\n",
    "\n",
    "# TASK: Print both DataFrames to see the updated data\n"
   ]
  },
  {
   "cell_type": "markdown",
   "metadata": {},
   "source": [
    "Task 4. Similar to the points per game, create a graph that now shows the Assists Per Game."
   ]
  },
  {
   "cell_type": "code",
   "execution_count": 67,
   "metadata": {
    "vscode": {
     "languageId": "ruby"
    }
   },
   "outputs": [],
   "source": [
    "# TASK: Create a Numpy Array with Lebron's first 15 season's assists per game\n",
    "\n",
    "# TASK: Create a Numpy Array with Jordan's first 15 season's assists per game\n",
    "\n",
    "# TASK: Use Matplotlib to graph the assists per game per season of both players in a single graph\n",
    "# Call the x-axis 'Season' and the y-axis 'Assists Per Game'\n",
    "# Graph title should be 'Assists Per Game in First 15 Seasons'\n",
    "# Plot label for Michael Jordan should be 'Michael Jordan' and for LeBron James should be 'LeBron James'\n",
    "# Plot marker for Michael Jordan should be 'o' and for LeBron James should be 'x'\n"
   ]
  },
  {
   "cell_type": "markdown",
   "metadata": {},
   "source": [
    "Task 5. Now it is getting complicated to know who is the best. Michael Jordan has better ppg (points per game) but Lebron more apg (assists per game).\n",
    "\n",
    "We could use a know formula that calculated how effective a player is, called the Player Efficiency Rating Formula:\n",
    "\n",
    "    PER = ppg + rpg + apg + spg + bpg - mfg - mft - tpg\n",
    "    Where:\n",
    "        ppg = point per game\n",
    "        rpg = rebounds per game\n",
    "        apg = assists per game\n",
    "        bpg = blocks per game\n",
    "        mfg = missed field goals per game\n",
    "        mft = missed free throws per game\n",
    "        tpg = turnovers per game\n",
    "\n",
    "You will be provided with these values, you will have to:\n",
    "1) Use these metrics to calculate the PER\n",
    "2) Create another column in your dataframe called PER (player efficiency rating) with the calculated value based on the formula\n",
    "3) Generate a graph that has both players PER\n",
    "4) Generate you conclusions on who is the best player:"
   ]
  },
  {
   "cell_type": "code",
   "execution_count": 68,
   "metadata": {},
   "outputs": [],
   "source": [
    "# Data for all required statistics\n",
    "# IMPORTANT: These are Python Lists, consider create a Numpy Array for each one for the PER calculation\n",
    "# Remmember you already have the points per game and assists per game for both players as Numpy Arrays\n",
    "# These next lists have already filtered the seasons that Michael Jordan did not play\n",
    "\n",
    "\n",
    "# Rebounds Per Game Per Season for both players (Python List)\n",
    "lebron_rpg = [5.5, 7.4, 7.0, 6.7, 7.9, 7.6, 7.3, 7.5, 7.9, 8.0, 6.9, 6.0, 7.4, 8.6, 8.6, 8.5, 7.8, 7.7, 8.0]\n",
    "jordan_rpg = [6.5, 3.6, 5.2, 5.5, 8.0, 6.9, 6.0, 6.4, 6.7, 6.9, 6.6, 5.9, 5.8, 0, 0, 0, 5.7, 6.1]\n",
    "\n",
    "# Steals Per Game Per Season for both players (Python List)\n",
    "lebron_spg = [1.6, 2.2, 1.6, 1.6, 1.8, 1.7, 1.6, 1.6, 1.9, 1.7, 1.6, 1.6, 1.4, 1.2, 1.4, 1.3, 1.2, 1.1, 1.3]\n",
    "jordan_spg = [2.4, 2.1, 2.9, 3.2, 2.9, 2.8, 2.7, 2.3, 2.8, 1.8, 2.2, 1.7, 1.7, 0, 0, 0, 1.4, 1.5]\n",
    "\n",
    "# Blocks Per Game Per Season for both players (Python List)\n",
    "lebron_bpg = [0.7, 0.7, 0.8, 0.7, 1.1, 1.1, 1.0, 0.6, 0.8, 0.9, 0.3, 0.7, 0.6, 0.6, 0.9, 0.6, 0.5, 0.6, 1.1]\n",
    "jordan_bpg = [0.8, 1.2, 1.5, 1.6, 0.8, 0.7, 1.0, 0.9, 0.8, 0.8, 0.8, 0.5, 0.5, 0.0, 0.0, 0.0, 0.4, 0.5]\n",
    "\n",
    "# Turnovers Per Game Per Season for both players (Python List)\n",
    "lebron_tpg = [3.5, 3.3, 3.3, 3.2, 3.4, 3.0, 3.4, 3.6, 3.4, 3.0, 3.5, 3.9, 3.3, 4.1, 4.2, 3.6, 3.9, 3.7, 3.5]\n",
    "jordan_tpg = [3.5, 2.5, 3.3, 3.1, 3.6, 3.0, 2.5, 2.5, 2.7, 2.1, 2.4, 2.3, 2.1, 0, 0, 0, 2.7, 2.4]\n",
    "\n",
    "# Field Goals Missed Per Game (Attempted - Made / Games) Per Season for both players (Python List)\n",
    "lebron_fgm = [11.0, 11.2, 12.0, 11.8, 11.9, 10.1, 8.8, 8.1, 9.3, 7.7, 7.6, 9.4, 7.4, 9.8, 8.9, 12.0, 9.8, 12.2, 11.7]\n",
    "jordan_fgm = [9.6, 25.4, 14.4, 11.2, 10.2, 12.0, 10.8, 10.9, 12.9, 27.6, 11.3, 11.9, 12.3, 0, 0, 0, 10.8, 9.2]\n",
    "\n",
    "# Free Trows Missed Per Game (Attempted - Made / Games) Per Season for both players (Python List)\n",
    "lebron_ftm = [1.4, 1.6, 2.7, 2.2, 3.0, 2.1, 2.4, 2.0, 1.9, 1.7, 1.9, 1.9, 1.7, 1.8, 1.8, 2.3, 1.9, 2.6, 2.3]\n",
    "jordan_ftm = [1.4, 2.6, 1.7, 1.9, 1.1, 1.2, 1.6, 1.6, 1.6, 3.5, 1.9, 1.5, 2.1, 0, 0, 0, 0.9, 0.8]\n",
    "\n",
    "\n",
    "# TASK: Generate a Numpy array with Player Efficiency Rating (PER) for each player \n",
    "# Formula for PER:\n",
    "#   PER = ppg + rpg + apg + spg + bpg - mfg - mft - tpg\n",
    "#\n",
    "# Call the Numpy array for Lebron: lebron_per\n",
    "# Call the Numpy array for Jordan: jordan_per\n",
    "\n",
    "\n",
    "# TASK: Add PER to the dataframes\n",
    "\n",
    "# TASK: Print the updated DataFrames\n",
    "\n",
    "\n"
   ]
  },
  {
   "cell_type": "code",
   "execution_count": null,
   "metadata": {
    "vscode": {
     "languageId": "r"
    }
   },
   "outputs": [],
   "source": [
    "# TASK: Get the Numpy array of Lebron and Jordan PER for the first 15 seasons:\n",
    "# IMPORTANT: Michael Jordan did not play from the 1998 season to the 2000 season, so you need to skip those seasons in the array\n",
    "\n",
    "\n",
    "# Use Matplotlib to graph the Player Efficiency Rating (PER) per season of both players in a single graph\n",
    "# The graph should have the following:\n",
    "# - Title: Player Efficiency Rating (PER) in First 15 Seasons\n",
    "# - X-axis: Season\n",
    "# - Y-axis: Player Efficiency Rating (PER)\n",
    "# - Plot the PER of Michael Jordan first 15 seasons and label it as 'Michael Jordan', marker='o'\n",
    "# - Plot the PER of LeBron James first 15 seasons and label it as 'LeBron James', marker='x'\n",
    "# - Make sure the graph has grid lines\n"
   ]
  },
  {
   "cell_type": "markdown",
   "metadata": {},
   "source": [
    "The best player between both is: ?"
   ]
  }
 ],
 "metadata": {
  "kernelspec": {
   "display_name": "Python 3",
   "language": "python",
   "name": "python3"
  },
  "language_info": {
   "codemirror_mode": {
    "name": "ipython",
    "version": 3
   },
   "file_extension": ".py",
   "mimetype": "text/x-python",
   "name": "python",
   "nbconvert_exporter": "python",
   "pygments_lexer": "ipython3",
   "version": "3.11.9"
  }
 },
 "nbformat": 4,
 "nbformat_minor": 2
}
